{
  "nbformat": 4,
  "nbformat_minor": 0,
  "metadata": {
    "colab": {
      "provenance": [],
      "include_colab_link": true
    },
    "kernelspec": {
      "name": "python3",
      "display_name": "Python 3"
    },
    "language_info": {
      "name": "python"
    },
    "widgets": {
      "application/vnd.jupyter.widget-state+json": {
        "657b28c479984513a98ba0e856e1a2b0": {
          "model_module": "@jupyter-widgets/controls",
          "model_name": "VBoxModel",
          "model_module_version": "1.5.0",
          "state": {
            "_dom_classes": [
              "widget-interact"
            ],
            "_model_module": "@jupyter-widgets/controls",
            "_model_module_version": "1.5.0",
            "_model_name": "VBoxModel",
            "_view_count": null,
            "_view_module": "@jupyter-widgets/controls",
            "_view_module_version": "1.5.0",
            "_view_name": "VBoxView",
            "box_style": "",
            "children": [
              "IPY_MODEL_c4bd76d7783647689f5e4ba184fd1dbf",
              "IPY_MODEL_23c89814f7b348ef8f0e366511462e19"
            ],
            "layout": "IPY_MODEL_720f4acd8bb54cc593d83494754d15ed"
          }
        },
        "c4bd76d7783647689f5e4ba184fd1dbf": {
          "model_module": "@jupyter-widgets/controls",
          "model_name": "IntSliderModel",
          "model_module_version": "1.5.0",
          "state": {
            "_dom_classes": [],
            "_model_module": "@jupyter-widgets/controls",
            "_model_module_version": "1.5.0",
            "_model_name": "IntSliderModel",
            "_view_count": null,
            "_view_module": "@jupyter-widgets/controls",
            "_view_module_version": "1.5.0",
            "_view_name": "IntSliderView",
            "continuous_update": true,
            "description": "time",
            "description_tooltip": null,
            "disabled": false,
            "layout": "IPY_MODEL_c2b0b5dce57b44539e210f8f0ccc532c",
            "max": 401,
            "min": 0,
            "orientation": "horizontal",
            "readout": true,
            "readout_format": "d",
            "step": 5,
            "style": "IPY_MODEL_7f7f7011aae943a7b38bc8a09203c480",
            "value": 400
          }
        },
        "23c89814f7b348ef8f0e366511462e19": {
          "model_module": "@jupyter-widgets/output",
          "model_name": "OutputModel",
          "model_module_version": "1.0.0",
          "state": {
            "_dom_classes": [],
            "_model_module": "@jupyter-widgets/output",
            "_model_module_version": "1.0.0",
            "_model_name": "OutputModel",
            "_view_count": null,
            "_view_module": "@jupyter-widgets/output",
            "_view_module_version": "1.0.0",
            "_view_name": "OutputView",
            "layout": "IPY_MODEL_9f4f7a228f5444478e4b667e068add8d",
            "msg_id": "",
            "outputs": [
              {
                "output_type": "display_data",
                "data": {
                  "text/plain": "<Figure size 432x288 with 1 Axes>",
                  "image/png": "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\n"
                },
                "metadata": {
                  "needs_background": "light"
                }
              }
            ]
          }
        },
        "720f4acd8bb54cc593d83494754d15ed": {
          "model_module": "@jupyter-widgets/base",
          "model_name": "LayoutModel",
          "model_module_version": "1.2.0",
          "state": {
            "_model_module": "@jupyter-widgets/base",
            "_model_module_version": "1.2.0",
            "_model_name": "LayoutModel",
            "_view_count": null,
            "_view_module": "@jupyter-widgets/base",
            "_view_module_version": "1.2.0",
            "_view_name": "LayoutView",
            "align_content": null,
            "align_items": null,
            "align_self": null,
            "border": null,
            "bottom": null,
            "display": null,
            "flex": null,
            "flex_flow": null,
            "grid_area": null,
            "grid_auto_columns": null,
            "grid_auto_flow": null,
            "grid_auto_rows": null,
            "grid_column": null,
            "grid_gap": null,
            "grid_row": null,
            "grid_template_areas": null,
            "grid_template_columns": null,
            "grid_template_rows": null,
            "height": null,
            "justify_content": null,
            "justify_items": null,
            "left": null,
            "margin": null,
            "max_height": null,
            "max_width": null,
            "min_height": null,
            "min_width": null,
            "object_fit": null,
            "object_position": null,
            "order": null,
            "overflow": null,
            "overflow_x": null,
            "overflow_y": null,
            "padding": null,
            "right": null,
            "top": null,
            "visibility": null,
            "width": null
          }
        },
        "c2b0b5dce57b44539e210f8f0ccc532c": {
          "model_module": "@jupyter-widgets/base",
          "model_name": "LayoutModel",
          "model_module_version": "1.2.0",
          "state": {
            "_model_module": "@jupyter-widgets/base",
            "_model_module_version": "1.2.0",
            "_model_name": "LayoutModel",
            "_view_count": null,
            "_view_module": "@jupyter-widgets/base",
            "_view_module_version": "1.2.0",
            "_view_name": "LayoutView",
            "align_content": null,
            "align_items": null,
            "align_self": null,
            "border": null,
            "bottom": null,
            "display": null,
            "flex": null,
            "flex_flow": null,
            "grid_area": null,
            "grid_auto_columns": null,
            "grid_auto_flow": null,
            "grid_auto_rows": null,
            "grid_column": null,
            "grid_gap": null,
            "grid_row": null,
            "grid_template_areas": null,
            "grid_template_columns": null,
            "grid_template_rows": null,
            "height": null,
            "justify_content": null,
            "justify_items": null,
            "left": null,
            "margin": null,
            "max_height": null,
            "max_width": null,
            "min_height": null,
            "min_width": null,
            "object_fit": null,
            "object_position": null,
            "order": null,
            "overflow": null,
            "overflow_x": null,
            "overflow_y": null,
            "padding": null,
            "right": null,
            "top": null,
            "visibility": null,
            "width": null
          }
        },
        "7f7f7011aae943a7b38bc8a09203c480": {
          "model_module": "@jupyter-widgets/controls",
          "model_name": "SliderStyleModel",
          "model_module_version": "1.5.0",
          "state": {
            "_model_module": "@jupyter-widgets/controls",
            "_model_module_version": "1.5.0",
            "_model_name": "SliderStyleModel",
            "_view_count": null,
            "_view_module": "@jupyter-widgets/base",
            "_view_module_version": "1.2.0",
            "_view_name": "StyleView",
            "description_width": "",
            "handle_color": null
          }
        },
        "9f4f7a228f5444478e4b667e068add8d": {
          "model_module": "@jupyter-widgets/base",
          "model_name": "LayoutModel",
          "model_module_version": "1.2.0",
          "state": {
            "_model_module": "@jupyter-widgets/base",
            "_model_module_version": "1.2.0",
            "_model_name": "LayoutModel",
            "_view_count": null,
            "_view_module": "@jupyter-widgets/base",
            "_view_module_version": "1.2.0",
            "_view_name": "LayoutView",
            "align_content": null,
            "align_items": null,
            "align_self": null,
            "border": null,
            "bottom": null,
            "display": null,
            "flex": null,
            "flex_flow": null,
            "grid_area": null,
            "grid_auto_columns": null,
            "grid_auto_flow": null,
            "grid_auto_rows": null,
            "grid_column": null,
            "grid_gap": null,
            "grid_row": null,
            "grid_template_areas": null,
            "grid_template_columns": null,
            "grid_template_rows": null,
            "height": null,
            "justify_content": null,
            "justify_items": null,
            "left": null,
            "margin": null,
            "max_height": null,
            "max_width": null,
            "min_height": null,
            "min_width": null,
            "object_fit": null,
            "object_position": null,
            "order": null,
            "overflow": null,
            "overflow_x": null,
            "overflow_y": null,
            "padding": null,
            "right": null,
            "top": null,
            "visibility": null,
            "width": null
          }
        }
      }
    }
  },
  "cells": [
    {
      "cell_type": "markdown",
      "metadata": {
        "id": "view-in-github",
        "colab_type": "text"
      },
      "source": [
        "<a href=\"https://colab.research.google.com/github/AdekingDev/Numerical_project/blob/main/part_3_final.ipynb\" target=\"_parent\"><img src=\"https://colab.research.google.com/assets/colab-badge.svg\" alt=\"Open In Colab\"/></a>"
      ]
    },
    {
      "cell_type": "code",
      "execution_count": null,
      "metadata": {
        "colab": {
          "base_uri": "https://localhost:8080/",
          "height": 333,
          "referenced_widgets": [
            "657b28c479984513a98ba0e856e1a2b0",
            "c4bd76d7783647689f5e4ba184fd1dbf",
            "23c89814f7b348ef8f0e366511462e19",
            "720f4acd8bb54cc593d83494754d15ed",
            "c2b0b5dce57b44539e210f8f0ccc532c",
            "7f7f7011aae943a7b38bc8a09203c480",
            "9f4f7a228f5444478e4b667e068add8d"
          ]
        },
        "id": "IZ-55NoxVv70",
        "outputId": "8d6804c7-d06a-4218-a40f-4e10aee7ad94"
      },
      "outputs": [
        {
          "output_type": "display_data",
          "data": {
            "text/plain": [
              "interactive(children=(IntSlider(value=20, description='time', max=401, step=5), Output()), _dom_classes=('widg…"
            ],
            "application/vnd.jupyter.widget-view+json": {
              "version_major": 2,
              "version_minor": 0,
              "model_id": "657b28c479984513a98ba0e856e1a2b0"
            }
          },
          "metadata": {}
        },
        {
          "output_type": "execute_result",
          "data": {
            "text/plain": [
              "<function __main__.animate_rocket(time)>"
            ]
          },
          "metadata": {},
          "execution_count": 26
        }
      ],
      "source": [
        "# First, install the ipywidgets library by running !pip install ipywidgets in a cell\n",
        "import ipywidgets as widgets\n",
        "import numpy as np\n",
        "import matplotlib.pyplot as plt\n",
        "from scipy.integrate import odeint\n",
        "\n",
        "# Define the rocket function as before\n",
        "def calculate(z, t):\n",
        "    # constants\n",
        "    g = 9.81 # m/s^2, gravitational force of earth\n",
        "    #g = 3.72 #gravitational force of mars \n",
        "    #g = 8.787 #gravitational force of venus\n",
        "    m = 2400   # kg, mass of rocket \\\n",
        "    if t < 31:\n",
        "        c = 0.2  # N-s^2/m^2, drag coefficient, chute closed\n",
        "    else:\n",
        "        c = 100 # N-s^2/m^2, drag coefficient, chute open\n",
        "\n",
        "    # states (z)\n",
        "    x = z[0]  # meters, horizontal position\n",
        "    y = z[1]  # meters, vertical position / elevation\n",
        "    vx = z[2] # m/s, rocket horizontal velocity = entry velocity\n",
        "    vy = z[3] # m/s, rocket vertical velocity\n",
        "\n",
        "    # derived values\n",
        "    v = np.sqrt(vx**2+vy**2) # m/s, magnitude of velocity\n",
        "    Fx = -c * vx**2\n",
        "    Fy = -m*g + c*vy**2\n",
        "\n",
        "    # calculate derivatives\n",
        "    dxdt = vx\n",
        "    dydt = vy\n",
        "    dvxdt = Fx / m\n",
        "    dvydt = Fy / m\n",
        "    dzdt = [dxdt, dydt, dvxdt, dvydt]    \n",
        "\n",
        "    return dzdt\n",
        "\n",
        "# initial conditions\n",
        "z0 = [0, 10000, 50, 0]\n",
        "# time points\n",
        "t = np.linspace(0, 400, 401)\n",
        "# solve\n",
        "z1 = odeint(calculate, z0, t)\n",
        "\n",
        "# parse results\n",
        "x = z1[:, 0]\n",
        "y = z1[:, 1]\n",
        "vx = z1[:, 2]\n",
        "vy = z1[:, 3]\n",
        "v = np.sqrt(vx**2+vy**2)\n",
        "\n",
        "# Define the animate_skydive function to update the plot at each time step\n",
        "def animate_rocket(time):\n",
        "    plt.plot(x[:time], y[:time])\n",
        "    plt.xlim(0, 2500)  # set x-axis range\n",
        "    plt.ylim(0, 10000)  # set y-axis range\n",
        "    plt.xlabel('x')\n",
        "    plt.ylabel('y')\n",
        "\n",
        "# Use the interact function to create a slider widget to control the time step of the animation\n",
        "widgets.interact(animate_rocket, time=widgets.IntSlider(min=0, max=401, step=5, value=20), fit_view=False)\n"
      ]
    }
  ]
}